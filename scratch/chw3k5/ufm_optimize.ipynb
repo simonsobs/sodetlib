{
 "cells": [
  {
   "cell_type": "markdown",
   "metadata": {
    "collapsed": true,
    "pycharm": {
     "name": "#%% md\n"
    }
   },
   "source": [
    "Code written in Oct 2021 by Yuhan Wang\n",
    "only suitable for UFMs when TESes are in normal stage\n",
    "instead of fitting to noise model, this takes median noise from 5Hz to 50Hz\n",
    "different noise levels here are based on phase 2 noise target and noise model after considering johnson noise at 100mK\n",
    "\n",
    "Adapted to an ipython notebook by Caleb Wheeler October 27, 2021"
   ]
  },
  {
   "cell_type": "markdown",
   "source": [
    "# Imports/Setup\n",
    "Not all imports are required, some are here for convince."
   ],
   "metadata": {
    "collapsed": false
   }
  },
  {
   "cell_type": "code",
   "execution_count": null,
   "outputs": [],
   "source": [
    "# selects a non-interactive plotting backend\n",
    "import matplotlib\n",
    "matplotlib.use('Agg')\n",
    "\n",
    "# required imports and favorite packages.\n",
    "import pysmurf.client\n",
    "import argparse\n",
    "import numpy as np\n",
    "import os\n",
    "import sys\n",
    "import time\n",
    "import glob\n",
    "\n",
    "import numpy as np\n",
    "from scipy.interpolate import interp1d\n",
    "import argparse\n",
    "import time\n",
    "import csv\n",
    "import scipy.signal as signal\n",
    "import matplotlib.pyplot as plt"
   ],
   "metadata": {
    "collapsed": false,
    "pycharm": {
     "name": "#%%\n"
    }
   }
  },
  {
   "cell_type": "markdown",
   "source": [
    "# Here we append this notebook's directory to the paths the python uses to look for imports.\n",
    "# This is a temporary measure used as demonstration and testing tool."
   ],
   "metadata": {
    "collapsed": false
   }
  },
  {
   "cell_type": "code",
   "execution_count": null,
   "outputs": [],
   "source": [
    "# Here we append this notebook's directory to the paths the python uses to look for imports.\n",
    "# his is a temporary measure used as demonstration and testing tool.\n",
    "basedir_this_notebook = os.path.basename(__file__)\n",
    "sys.path.append(basedir_this_notebook)"
   ],
   "metadata": {
    "collapsed": false,
    "pycharm": {
     "name": "#%%\n"
    }
   }
  },
  {
   "cell_type": "markdown",
   "source": [
    "# LoadS - Getting control of the SMuRF blade by slot number\n",
    "This is a class that can load and operate on an abstract number of SMuRF controllers\n",
    "obtained by slot number."
   ],
   "metadata": {
    "collapsed": false,
    "pycharm": {
     "name": "#%% md\n"
    }
   }
  },
  {
   "cell_type": "code",
   "execution_count": null,
   "outputs": [],
   "source": [
    "from operators.controler import LoadS"
   ],
   "metadata": {
    "collapsed": false,
    "pycharm": {
     "name": "#%%\n"
    }
   }
  },
  {
   "cell_type": "markdown",
   "source": [
    "# SingleBand - Set up a single band\n",
    "There are a lot of ways to set up or configure a single band (bias line). This class stores\n",
    "the fundamental methods for setting up a given band. Some methods in this class script these\n",
    "fundamental methods. The methods at the end of this class are more fundamental while the methods\n",
    "at the beginning are more complex scrips."
   ],
   "metadata": {
    "collapsed": false,
    "pycharm": {
     "name": "#%% md\n"
    }
   }
  },
  {
   "cell_type": "code",
   "execution_count": null,
   "outputs": [],
   "source": [
    "from operators.smurf_band import SingleBand"
   ],
   "metadata": {
    "collapsed": false,
    "pycharm": {
     "name": "#%%\n"
    }
   }
  },
  {
   "cell_type": "markdown",
   "source": [
    "# TimeStreamData\n",
    "### A class for acquiring and viewing time stream data.\n",
    "Each instance of this class can acquire time streams, however each instance is only\n",
    "used to view a single time stream at a time. For viewing multiple time streams,\n",
    "initiate multiple instances of this class."
   ],
   "metadata": {
    "collapsed": false,
    "pycharm": {
     "name": "#%% md\n"
    }
   }
  },
  {
   "cell_type": "code",
   "execution_count": null,
   "outputs": [],
   "source": [
    "from operators.time_stream import TimeStreamData"
   ],
   "metadata": {
    "collapsed": false,
    "pycharm": {
     "name": "#%%\n"
    }
   }
  },
  {
   "cell_type": "markdown",
   "source": [
    "# Grouped Bands\n",
    "Classes that can be any set of bands on a given SMuRF slot.\n",
    "\n",
    "`GroupedBiases`is for doing simple commands that are the same across all smurf bands.\n",
    "\n",
    "`AutoTune`allows each band to be individually set, with the idea of maximizing tuning across\n",
    "bands, with the least number of timestreams. `AutoTune.time_stream_data` is an instance of the\n",
    "TimeStreamData class that is used automatically to acquire data."
   ],
   "metadata": {
    "collapsed": false,
    "pycharm": {
     "name": "#%% md\n"
    }
   }
  },
  {
   "cell_type": "code",
   "execution_count": null,
   "outputs": [],
   "source": [
    "from operators.bias_group import GroupedBiases, AutoTune"
   ],
   "metadata": {
    "collapsed": false,
    "pycharm": {
     "name": "#%%\n"
    }
   }
  },
  {
   "cell_type": "markdown",
   "source": [
    "# The Script Example\n",
    "All the classes and import statements above only set the stage, this where the dance begins!\n",
    "## Example Parameters\n",
    "These are parameters chosen to emulate the functionality of ufm_optimize_quick_normal.py.\n",
    "However, several parameters have been abstracted in the classes their methods.\n",
    "See the doc-strings in the various classes for more information about use cases."
   ],
   "metadata": {
    "collapsed": false,
    "pycharm": {
     "name": "#%% md\n"
    }
   }
  },
  {
   "cell_type": "code",
   "execution_count": null,
   "outputs": [],
   "source": [
    "# example parameters\n",
    "band = 4\n",
    "slot_num = 2\n",
    "bias_group = [0, 1, 2, 3, 4, 5, 6, 7, 8, 9, 10, 11]\n",
    "stream_time = 20\n",
    "nperseg = 2**12\n",
    "verbose = True"
   ],
   "metadata": {
    "collapsed": false,
    "pycharm": {
     "name": "#%%\n"
    }
   }
  },
  {
   "cell_type": "markdown",
   "source": [
    "## Load the SMuRF controller\n",
    "The load_s class instance can support multiple controllers, accessible by slot number in the\n",
    "dictionaries load_s.cfg_dict, load_s.S_dict, and load_s.log_dict.\n",
    "\n",
    "Initialization is automatic, see the doc-strings in the 'LoadS' class for details."
   ],
   "metadata": {
    "collapsed": false,
    "pycharm": {
     "name": "#%% md\n"
    }
   }
  },
  {
   "cell_type": "code",
   "execution_count": null,
   "outputs": [],
   "source": [
    "# load a single S, or SMuRF controller instance for a given slot number\n",
    "load_s = LoadS(slot_nums=[slot_num], verbose=verbose)\n",
    "cfg = load_s.cfg_dict[slot_num]\n",
    "S = load_s.S_dict[slot_num]"
   ],
   "metadata": {
    "collapsed": false,
    "pycharm": {
     "name": "#%%\n"
    }
   }
  },
  {
   "cell_type": "markdown",
   "source": [
    "## Lock and Configure on a Single Band\n",
    "Setup for locking on a single `band`. When auto_startup is True, the method SingleBand.startup()\n",
    "handles all the standard configuration settings. SingleBand.startup() is really a script and can\n",
    "have components added and deleted."
   ],
   "metadata": {
    "collapsed": false,
    "pycharm": {
     "name": "#%% md\n"
    }
   }
  },
  {
   "cell_type": "code",
   "execution_count": null,
   "outputs": [],
   "source": [
    "# configure a single band\n",
    "single_band = SingleBand(S=S, cfg=cfg, band=band, auto_startup=True, verbose=verbose)\n",
    "single_band.check_lock()"
   ],
   "metadata": {
    "collapsed": false,
    "pycharm": {
     "name": "#%%\n"
    }
   }
  },
  {
   "cell_type": "markdown",
   "source": [
    "## Overbiases the detectors, an example of GroupedBiases\n",
    "The GroupedBiases is a class that does the *same* operations to every `band` (bias line)."
   ],
   "metadata": {
    "collapsed": false,
    "pycharm": {
     "name": "#%% md\n"
    }
   }
  },
  {
   "cell_type": "code",
   "execution_count": null,
   "outputs": [],
   "source": [
    "# configure a collection of bands as a single bias group.\n",
    "grouped_biases = GroupedBiases(S=S, cfg=cfg, bias_group=bias_group, verbose=verbose)\n",
    "grouped_biases.overbias_tes(sleep_time=120, tes_bias=1)"
   ],
   "metadata": {
    "collapsed": false,
    "pycharm": {
     "name": "#%%\n"
    }
   }
  },
  {
   "cell_type": "markdown",
   "source": [
    "## The Optimization - AutoTune\n",
    "AutoTune is a class that operates on an abstract number of `bands`. This class acquires time streams,\n",
    "then makes a map of white noise levels with respect to band and up conversion attenuation settings.\n",
    "An acceptance function is uses to determine if subsequent tuning is needed, tuning is repeated for 5 loops\n",
    "or until every band exits the tuning successfully.\n",
    "\n",
    "To operate on a single `band`, have the iterable `bias_group` contain only a single element,\n",
    "for example, `bias_group=[4]`.\n",
    "\n",
    "The idea of tuning with multiple biases at a time is to minimize the number of time streams needed to\n",
    "fully tune and array."
   ],
   "metadata": {
    "collapsed": false
   }
  },
  {
   "cell_type": "code",
   "execution_count": null,
   "outputs": [],
   "source": [
    "# acquire time stream data\n",
    "auto_tune = AutoTune(S=S, cfg=cfg, nperseg=nperseg, bias_group=bias_group, verbose=verbose)\n",
    "auto_tune.tune_selector_up_atten(uc_attens_centers_per_band=None, loop_count_max=5,\n",
    "                                 stream_time=stream_time, do_plots=False, fmin=5, fmax=50)\n",
    "# print the plotting directory\n",
    "print(f\"plotting directory is:\\n{S.plot_dir}\")"
   ],
   "metadata": {
    "collapsed": false,
    "pycharm": {
     "name": "#%%\n"
    }
   }
  }
 ],
 "metadata": {
  "kernelspec": {
   "display_name": "Python 3",
   "language": "python",
   "name": "python3"
  },
  "language_info": {
   "codemirror_mode": {
    "name": "ipython",
    "version": 2
   },
   "file_extension": ".py",
   "mimetype": "text/x-python",
   "name": "python",
   "nbconvert_exporter": "python",
   "pygments_lexer": "ipython2",
   "version": "2.7.6"
  }
 },
 "nbformat": 4,
 "nbformat_minor": 0
}