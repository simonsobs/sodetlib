{
 "cells": [
  {
   "cell_type": "code",
   "execution_count": 1,
   "metadata": {
    "collapsed": true
   },
   "outputs": [],
   "source": [
    "# import the core map making code\n",
    "from sodetlib.detmap.makemap import make_map_smurf, make_map_vna, psat_map\n",
    "# custom packages used in this example\n",
    "from sodetlib.detmap.channel_assignment import OperateTuneData\n",
    "from sodetlib.detmap.layout_data import get_layout_data\n",
    "# get a sample configuration to use with this example\n",
    "from sodetlib.detmap.detmap_conifg import get_config\n",
    "\n",
    "\n",
    "config = get_config()"
   ]
  },
  {
   "cell_type": "code",
   "execution_count": 2,
   "outputs": [],
   "source": [
    "# Get Metadata\n",
    "# get the design file for the resonators\n",
    "design_data_example = OperateTuneData(design_file_path=config['design_file_path'])\n",
    "# get the UFM layout metadata (mux_layout_position and bond_pad mapping)\n",
    "layout_data_example = get_layout_data(filename=config['waferfile_path'],\n",
    "                                      dark_bias_lines=config['dark_bias_lines'], plot=False)\n"
   ],
   "metadata": {
    "collapsed": false,
    "pycharm": {
     "name": "#%%\n"
    }
   }
  },
  {
   "cell_type": "code",
   "execution_count": 3,
   "outputs": [
    {
     "name": "stdout",
     "output_type": "stream",
     "text": [
      "Output CSV written at: C:\\Users\\chw3k5\\PycharmProjects\\sodetlib\\sodetlib\\detmap\\sample_data\\smurf_pixel_freq_mapping.csv\n"
     ]
    }
   ],
   "source": [
    "# read the tunefile and initialize the data instance\n",
    "tune_data_smurf = make_map_smurf(tunefile=config['tunefile'], north_is_highband=config['north_is_highband'],\n",
    "                                 design_file=config['design_file_path'], waferfile=config['waferfile_path'],\n",
    "                                 layout_position_path=config['mux_pos_num_to_mux_band_num_path'],\n",
    "                                 dark_bias_lines=config['dark_bias_lines'],\n",
    "                                 output_path_csv=config['output_filename_smurf'])\n"
   ],
   "metadata": {
    "collapsed": false,
    "pycharm": {
     "name": "#%% Smurf Tune File\n"
    }
   }
  },
  {
   "cell_type": "code",
   "execution_count": 4,
   "outputs": [
    {
     "name": "stdout",
     "output_type": "stream",
     "text": [
      "Output CSV written at: C:\\Users\\chw3k5\\PycharmProjects\\sodetlib\\sodetlib\\detmap\\sample_data\\tune_data_vna.csv\n",
      "Output CSV written at: C:\\Users\\chw3k5\\PycharmProjects\\sodetlib\\sodetlib\\detmap\\sample_data\\tune_data_vna.csv\n"
     ]
    }
   ],
   "source": [
    "# VNA scans\n",
    "tune_data_vna = make_map_vna(tune_data_vna_output_filename=config['tune_data_vna_output_filename'],\n",
    "                             path_north_side_vna=config['path_north_side_vna'],\n",
    "                             path_south_side_vna=config['path_south_side_vna'],\n",
    "                             north_is_highband=config['north_is_highband'], shift_mhz=config['vna_shift_mhz'],\n",
    "                             design_file=config['design_file_path'], waferfile=config['waferfile_path'],\n",
    "                             layout_position_path=config['mux_pos_num_to_mux_band_num_path'],\n",
    "                             dark_bias_lines=config['dark_bias_lines'],\n",
    "                             output_path_csv=config['tune_data_vna_output_filename'])\n"
   ],
   "metadata": {
    "collapsed": false,
    "pycharm": {
     "name": "#%%\n"
    }
   }
  },
  {
   "cell_type": "code",
   "execution_count": 5,
   "outputs": [
    {
     "name": "stdout",
     "output_type": "stream",
     "text": [
      "Output CSV written at: C:\\Users\\chw3k5\\PycharmProjects\\sodetlib\\sodetlib\\detmap\\sample_data\\smurf_pixel_freq_mapping.csv\n",
      "Plot saved at: C:\\Users\\chw3k5\\PycharmProjects\\sodetlib\\sodetlib\\detmap\\sample_data\\plots\\90_GHz_Psat_at_100mK_CL=9.0K,_range=0.0-3.0_pW.png\n",
      "Plot saved at: C:\\Users\\chw3k5\\PycharmProjects\\sodetlib\\sodetlib\\detmap\\sample_data\\plots\\150_GHz_Psat_at_100mK_CL=9.0K,_range=0.0-6.0_pW.png\n"
     ]
    }
   ],
   "source": [
    "psat_map(tunefile=config['tunefile'], north_is_highband=config['north_is_highband'],\n",
    "         output_filename_smurf=config['output_filename_smurf'],\n",
    "         cold_ramp_file=config['cold_ramp_file'],\n",
    "         design_file=config['design_file_path'], waferfile=config['waferfile_path'],\n",
    "         mux_pos_num_to_mux_band_num=config['mux_pos_num_to_mux_band_num_path'],\n",
    "         dark_bias_lines=None, do_csv_output=True,\n",
    "         psat_temp_k=9.0, psat_show_plot=False, psat_save_plot=True)"
   ],
   "metadata": {
    "collapsed": false,
    "pycharm": {
     "name": "#%%\n"
    }
   }
  }
 ],
 "metadata": {
  "kernelspec": {
   "display_name": "Python 3",
   "language": "python",
   "name": "python3"
  },
  "language_info": {
   "codemirror_mode": {
    "name": "ipython",
    "version": 2
   },
   "file_extension": ".py",
   "mimetype": "text/x-python",
   "name": "python",
   "nbconvert_exporter": "python",
   "pygments_lexer": "ipython2",
   "version": "2.7.6"
  }
 },
 "nbformat": 4,
 "nbformat_minor": 0
}