{
 "cells": [
  {
   "cell_type": "code",
   "execution_count": 1,
   "metadata": {
    "collapsed": true
   },
   "outputs": [],
   "source": [
    "import os\n",
    "import numpy as np\n",
    "# import the core map making code\n",
    "from sodetlib.detmap.makemap import make_map_smurf, make_map_vna, make_map_g3_timestream, psat_map\n",
    "# custom packages used in this example\n",
    "from sodetlib.detmap.channel_assignment import OperateTuneData\n",
    "from sodetlib.detmap.layout_data import get_layout_data\n",
    "# get a sample configuration to use with this example\n",
    "from sodetlib.detmap.detmap_config import get_config, abs_path_detmap, abs_path_metadata_files_default,\\\n",
    "    metadata_waferfile_default, metadata_designfile_default, metadata_mux_pos_to_mux_band_file_default\n",
    "\n",
    "\n",
    "config = get_config(config_ymal_path=os.path.join(abs_path_detmap, 'example', 'example.yaml'),\n",
    "                    metadata_dir=abs_path_metadata_files_default,\n",
    "                    metadata_waferfile=metadata_waferfile_default,\n",
    "                    metadata_designfile=metadata_designfile_default,\n",
    "                    metadata_mux_pos_to_mux_band_file=metadata_mux_pos_to_mux_band_file_default,\n",
    "                    output_data_dir=os.path.join(abs_path_detmap, 'output'))"
   ]
  },
  {
   "cell_type": "code",
   "execution_count": 2,
   "metadata": {
    "pycharm": {
     "name": "#%%\n"
    }
   },
   "outputs": [],
   "source": [
    "# Get Metadata\n",
    "# get the design file for the resonators\n",
    "design_data_example = OperateTuneData(design_file_path=config['design_file_path'])\n",
    "# get the UFM layout metadata (mux_layout_position and bond_pad mapping)\n",
    "layout_data_example = get_layout_data(filename=config['waferfile_path'],\n",
    "                                      dark_bias_lines=config['dark_bias_lines'], plot=False)\n"
   ]
  },
  {
   "cell_type": "code",
   "execution_count": 3,
   "metadata": {
    "pycharm": {
     "name": "#%% Smurf Tune File\n"
    }
   },
   "outputs": [
    {
     "name": "stdout",
     "output_type": "stream",
     "text": [
      "SMuRF-band:0  Making One-to-One refit and mapping\n",
      "  1 outlier(s) are more than 10.0 MHz from a design value.\n",
      "SMuRF-band:1  Making One-to-One refit and mapping\n",
      "  No outliers that are more than 10.0 MHz from a design value.\n",
      "SMuRF-band:2  Making One-to-One refit and mapping\n",
      "  No outliers that are more than 10.0 MHz from a design value.\n",
      "SMuRF-band:3  Making One-to-One refit and mapping\n",
      "  No outliers that are more than 10.0 MHz from a design value.\n",
      "SMuRF-band:4  Making One-to-One refit and mapping\n",
      "  2 outlier(s) are more than 10.0 MHz from a design value.\n",
      "  right overrun: [4484.692153423016, 4495.962905555661]\n",
      "   left overrun: []\n",
      "  Doing overrun healing...\n",
      "  Overrun healing complete.\n",
      " 2 measured frequencies unmapped (more measured then design): [4484.692153423016, 4495.962905555661]\n",
      "SMuRF-band:5  Making One-to-One refit and mapping\n",
      "  No outliers that are more than 10.0 MHz from a design value.\n",
      "SMuRF-band:6  Making One-to-One refit and mapping\n",
      "  No outliers that are more than 10.0 MHz from a design value.\n",
      "  right overrun: [5482.37466755565]\n",
      "   left overrun: []\n",
      "  Doing overrun healing...\n",
      "  Overrun healing complete.\n",
      "SMuRF-band:7  Making One-to-One refit and mapping\n",
      "  No outliers that are more than 10.0 MHz from a design value.\n",
      "Saved the OperateTuneData Diagnostic layout plot at: C:\\Users\\chw3k5\\PycharmProjects\\sodetlib\\sodetlib\\detmap\\output\\plots\\smurf_layout.png\n",
      "Output CSV written at: C:\\Users\\chw3k5\\PycharmProjects\\sodetlib\\sodetlib\\detmap\\sample_data\\smurf_pixel_freq_mapping.csv\n"
     ]
    }
   ],
   "source": [
    "# read the tunefile and initialize the data instance\n",
    "tune_data_smurf = make_map_smurf(tunefile=config['tunefile'],\n",
    "                                 north_is_highband=config['north_is_highband'],\n",
    "                                 design_file=config['design_file_path'],\n",
    "                                 waferfile=config['waferfile_path'],\n",
    "                                 layout_position_path=config['mux_pos_num_to_mux_band_num_path'],\n",
    "                                 dark_bias_lines=config['dark_bias_lines'],\n",
    "                                 output_path_csv=config['output_filename_smurf'],\n",
    "                                 layout_plot_path=config['layout_plot_filename_smurf'],\n",
    "                                 do_csv_output=config['do_csv_output'],\n",
    "                                 save_layout_plot=config['save_layout_plot'],\n",
    "                                 show_layout_plot=config['show_layout_plot'],\n",
    "                                 mapping_strategy=config['mapping_strategy'])"
   ]
  },
  {
   "cell_type": "code",
   "execution_count": 4,
   "metadata": {
    "pycharm": {
     "name": "#%%\n"
    }
   },
   "outputs": [
    {
     "name": "stdout",
     "output_type": "stream",
     "text": [
      "SMuRF-band:0  Making One-to-One refit and mapping\n",
      "  No outliers that are more than 10.0 MHz from a design value.\n",
      "SMuRF-band:1  Making One-to-One refit and mapping\n",
      "  No outliers that are more than 10.0 MHz from a design value.\n",
      "  right overrun: [4983.6910128678155]\n",
      "   left overrun: [4519.1109481280455]\n",
      "  Doing overrun healing...\n",
      "  Overrun healing complete.\n",
      " 2 measured frequencies unmapped (more measured then design): [4983.6910128678155, 4519.1109481280455]\n",
      "SMuRF-band:2  Making One-to-One refit and mapping\n",
      "  No outliers that are more than 10.0 MHz from a design value.\n",
      "  right overrun: [5481.4709228629, 5482.777535734942]\n",
      "   left overrun: []\n",
      "  Doing overrun healing...\n",
      "  Overrun healing complete.\n",
      " 1 measured frequencies unmapped (more measured then design): [5482.777535734942]\n",
      "SMuRF-band:3  Making One-to-One refit and mapping\n",
      "  No outliers that are more than 10.0 MHz from a design value.\n",
      "  right overrun: [5979.09245553875]\n",
      "   left overrun: []\n",
      "  Doing overrun healing...\n",
      "  Overrun healing complete.\n",
      "SMuRF-band:4  Making One-to-One refit and mapping\n",
      "  No outliers that are more than 10.0 MHz from a design value.\n",
      "  right overrun: [4482.077574106521]\n",
      "   left overrun: []\n",
      "  Doing overrun healing...\n",
      "  Overrun healing complete.\n",
      "SMuRF-band:5  Making One-to-One refit and mapping\n",
      "  No outliers that are more than 10.0 MHz from a design value.\n",
      "SMuRF-band:6  Making One-to-One refit and mapping\n",
      "  No outliers that are more than 10.0 MHz from a design value.\n",
      "SMuRF-band:7  Making One-to-One refit and mapping\n",
      "  No outliers that are more than 10.0 MHz from a design value.\n",
      "Saved the OperateTuneData Diagnostic layout plot at: C:\\Users\\chw3k5\\PycharmProjects\\sodetlib\\sodetlib\\detmap\\output\\plots\\vna_layout.png\n",
      "Output CSV written at: C:\\Users\\chw3k5\\PycharmProjects\\sodetlib\\sodetlib\\detmap\\output\\test_pixel_info_vna.csv\n"
     ]
    }
   ],
   "source": [
    "# VNA scans\n",
    "tune_data_vna = make_map_vna(tune_data_vna_output_filename=config['tune_data_vna_output_filename'],\n",
    "                             north_is_highband=config['north_is_highband'],\n",
    "                             path_north_side_vna=config['path_north_side_vna'],\n",
    "                             path_south_side_vna=config['path_south_side_vna'],\n",
    "                             shift_mhz=config['vna_shift_mhz'],\n",
    "                             design_file=config['design_file_path'], waferfile=config['waferfile_path'],\n",
    "                             layout_position_path=config['mux_pos_num_to_mux_band_num_path'],\n",
    "                             dark_bias_lines=config['dark_bias_lines'],\n",
    "                             output_path_csv=config['output_filename_vna'],\n",
    "                             layout_plot_path=config['layout_plot_filename_vna'],\n",
    "                             do_csv_output=config['do_csv_output'],\n",
    "                             save_layout_plot=config['save_layout_plot'],\n",
    "                             show_layout_plot=config['show_layout_plot'],\n",
    "                             mapping_strategy=config['mapping_strategy'])"
   ]
  },
  {
   "cell_type": "code",
   "execution_count": 5,
   "metadata": {
    "pycharm": {
     "name": "#%%\n"
    }
   },
   "outputs": [
    {
     "name": "stdout",
     "output_type": "stream",
     "text": [
      "SMuRF-band:0  Making One-to-One refit and mapping\n",
      "  1 outlier(s) are more than 10.0 MHz from a design value.\n",
      "  right overrun: [4472.543708396472, 4474.587492638572, 4476.690872521129, 4478.647291344622, 4517.139882911136]\n",
      "   left overrun: []\n",
      "  Doing overrun healing...\n",
      "  Overrun healing complete.\n",
      "SMuRF-band:1  Making One-to-One refit and mapping\n",
      "  No outliers that are more than 10.0 MHz from a design value.\n",
      "  right overrun: []\n",
      "   left overrun: [4521.169665227339]\n",
      "  Doing overrun healing...\n",
      "  Overrun healing complete.\n",
      "SMuRF-band:2  Making One-to-One refit and mapping\n",
      "  1 outlier(s) are more than 10.0 MHz from a design value.\n",
      "SMuRF-band:3  Making One-to-One refit and mapping\n",
      "  No outliers that are more than 10.0 MHz from a design value.\n",
      "Saved the OperateTuneData Diagnostic layout plot at: C:\\Users\\chw3k5\\PycharmProjects\\sodetlib\\sodetlib\\detmap\\output\\plots\\g3_layout.png\n",
      "Output CSV written at: C:\\Users\\chw3k5\\PycharmProjects\\sodetlib\\sodetlib\\detmap\\output\\g3_pixel_freq_mapping.csv\n"
     ]
    }
   ],
   "source": [
    "tune_data_g3 = make_map_g3_timestream(timestream=config['timestream'],\n",
    "                                      north_is_highband=config['north_is_highband'],\n",
    "                                      design_file=config['design_file_path'], waferfile=config['waferfile_path'],\n",
    "                                      layout_position_path=config['mux_pos_num_to_mux_band_num_path'],\n",
    "                                      dark_bias_lines=config['dark_bias_lines'],\n",
    "                                      output_path_csv=config['output_filename_g3'],\n",
    "                                      layout_plot_path=config['layout_plot_filename_g3'],\n",
    "                                      do_csv_output=config['do_csv_output'],\n",
    "                                      save_layout_plot=config['save_layout_plot'],\n",
    "                                      show_layout_plot=config['show_layout_plot'],\n",
    "                                      mapping_strategy=config['mapping_strategy'])"
   ]
  },
  {
   "cell_type": "code",
   "execution_count": 6,
   "metadata": {
    "pycharm": {
     "name": "#%%\n"
    }
   },
   "outputs": [
    {
     "name": "stdout",
     "output_type": "stream",
     "text": [
      "Plot saved at: C:\\Users\\chw3k5\\PycharmProjects\\sodetlib\\sodetlib\\detmap\\output\\plots\\90_GHz_Psat_at_100mK_CL=9.0K,_range=0.0-3.0_pW.png\n",
      "Plot saved at: C:\\Users\\chw3k5\\PycharmProjects\\sodetlib\\sodetlib\\detmap\\output\\plots\\150_GHz_Psat_at_100mK_CL=9.0K,_range=0.0-6.0_pW.png\n"
     ]
    }
   ],
   "source": [
    "psat_map(tune_data=tune_data_smurf, cold_ramp_file=config['cold_ramp_file'],\n",
    "         temp_k=config['psat_temp_k'], show_plot=config['psat_show_plot'], save_plot=config['psat_save_plot'])"
   ]
  },
  {
   "cell_type": "code",
   "execution_count": 7,
   "metadata": {
    "pycharm": {
     "name": "#%%\n"
    }
   },
   "outputs": [],
   "source": [
    "# if you like to work with rectangular data topologies, it is easy to cast the data into an iterable like a list\n",
    "data_list = list(tune_data_smurf)\n",
    "# and then into a numpy array\n",
    "data_array = np.array(data_list)"
   ]
  }
 ],
 "metadata": {
  "kernelspec": {
   "display_name": "Python 3 (ipykernel)",
   "language": "python",
   "name": "python3"
  },
  "language_info": {
   "codemirror_mode": {
    "name": "ipython",
    "version": 3
   },
   "file_extension": ".py",
   "mimetype": "text/x-python",
   "name": "python",
   "nbconvert_exporter": "python",
   "pygments_lexer": "ipython3",
   "version": "3.8.5"
  }
 },
 "nbformat": 4,
 "nbformat_minor": 1
}