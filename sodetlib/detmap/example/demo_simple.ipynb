{
 "cells": [
  {
   "cell_type": "code",
   "execution_count": 1,
   "metadata": {
    "collapsed": true
   },
   "outputs": [],
   "source": [
    "import os\n",
    "import numpy as np\n",
    "from sodetlib.detmap.example.download_example_data import sample_data_init\n",
    "from sodetlib.detmap.detmap_config import abs_path_sample_data_default\n",
    "from sodetlib.detmap.makemap import make_map_g3_timestream, make_map_smurf"
   ]
  },
  {
   "cell_type": "markdown",
   "source": [
    "Get the Sample data"
   ],
   "metadata": {
    "collapsed": false
   }
  },
  {
   "cell_type": "code",
   "execution_count": 2,
   "outputs": [],
   "source": [
    "# if you find files are missing use del_dir=True to re-download the sample data\n",
    "sample_data_init(del_dir=False)"
   ],
   "metadata": {
    "collapsed": false,
    "pycharm": {
     "name": "#%%\n"
    }
   }
  },
  {
   "cell_type": "markdown",
   "source": [
    "G3 timestream tune file: Minimal Example of getting an output CSV"
   ],
   "metadata": {
    "collapsed": false
   }
  },
  {
   "cell_type": "code",
   "execution_count": 3,
   "outputs": [
    {
     "name": "stdout",
     "output_type": "stream",
     "text": [
      "Output CSV written at: C:\\Users\\chw3k5\\PycharmProjects\\sodetlib\\sodetlib\\detmap\\sample_data\\g3ts_pixel_freq_mapping.csv\n"
     ]
    }
   ],
   "source": [
    "tune_data_g3 = make_map_g3_timestream(timestream=os.path.join(abs_path_sample_data_default, 'freq_map.npy'), north_is_highband=False)"
   ],
   "metadata": {
    "collapsed": false,
    "pycharm": {
     "name": "#%%\n"
    }
   }
  },
  {
   "cell_type": "markdown",
   "source": [
    "SMuRF tune file: Minimal Example of getting an output CSV"
   ],
   "metadata": {
    "collapsed": false
   }
  },
  {
   "cell_type": "code",
   "execution_count": 4,
   "outputs": [
    {
     "name": "stdout",
     "output_type": "stream",
     "text": [
      "Output CSV written at: C:\\Users\\chw3k5\\PycharmProjects\\sodetlib\\sodetlib\\detmap\\sample_data\\smurf_pixel_freq_mapping.csv\n"
     ]
    }
   ],
   "source": [
    "tune_data_smurf = make_map_smurf(tunefile=os.path.join(abs_path_sample_data_default, '1632247315_tune.npy'), north_is_highband=False)"
   ],
   "metadata": {
    "collapsed": false,
    "pycharm": {
     "name": "#%%\n"
    }
   }
  },
  {
   "cell_type": "code",
   "execution_count": 5,
   "outputs": [],
   "source": [
    "# if you like to work with rectangular data topologies, it is easy to cast the data into an iterable like a list\n",
    "data_list = list(tune_data_smurf)\n",
    "# and then into a numpy array\n",
    "data_array = np.array(data_list)"
   ],
   "metadata": {
    "collapsed": false,
    "pycharm": {
     "name": "#%%\n"
    }
   }
  }
 ],
 "metadata": {
  "kernelspec": {
   "display_name": "Python 3",
   "language": "python",
   "name": "python3"
  },
  "language_info": {
   "codemirror_mode": {
    "name": "ipython",
    "version": 2
   },
   "file_extension": ".py",
   "mimetype": "text/x-python",
   "name": "python",
   "nbconvert_exporter": "python",
   "pygments_lexer": "ipython2",
   "version": "2.7.6"
  }
 },
 "nbformat": 4,
 "nbformat_minor": 0
}