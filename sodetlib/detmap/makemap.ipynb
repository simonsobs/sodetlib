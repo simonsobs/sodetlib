{
 "cells": [
  {
   "cell_type": "code",
   "execution_count": 1,
   "metadata": {
    "collapsed": true
   },
   "outputs": [
    {
     "name": "stdout",
     "output_type": "stream",
     "text": [
      "The Sample Data used for the default data not found, doing a one time download of the sample data data.\n",
      "  Beginning file download of at https://drive.google.com/file/d/1G8eiJ85zVKu53GCzeVdjHEV8cWqrg6eH/view?usp=sharing\n",
      "  This is ~500 Mb file so it make take a while depending on your connection speed...\n",
      "Download Complete.\n",
      "\n",
      "Extracting the zipfile...\n",
      "  The zipfile extracted and unpacked.\n",
      "  A cleanup was done remove original zipfile\n",
      "\n"
     ]
    }
   ],
   "source": [
    "# import the core map making code\n",
    "from makemap import make_map_smurf, make_map_vna\n",
    "# custom packages used in this example\n",
    "from read_iv import read_psat\n",
    "from simple_csv import read_csv\n",
    "from channel_assignment import OperateTuneData\n",
    "from layout_data import get_layout_data\n",
    "# get a sample configuration to use with this example\n",
    "from detmap_conifg_example import path_north_side_vna, path_south_side_vna, cold_ramp_file, \\\n",
    "    north_is_highband, vna_shift_mhz, tunefile, dark_bias_lines, design_file, mux_pos_num_to_mux_band_num_path, \\\n",
    "    waferfile, output_filename, output_filename_vna, tune_data_vna_output_filename"
   ]
  },
  {
   "cell_type": "code",
   "execution_count": 2,
   "outputs": [],
   "source": [
    "# Get Metadata\n",
    "# get the design file for the resonators\n",
    "design_data_example = OperateTuneData(design_file_path=design_file)\n",
    "# get the UFM layout metadata (mux_layout_position and bond_pad mapping)\n",
    "layout_data_example = get_layout_data(waferfile, dark_bias_lines=dark_bias_lines, plot=False)\n"
   ],
   "metadata": {
    "collapsed": false,
    "pycharm": {
     "name": "#%%\n"
    }
   }
  },
  {
   "cell_type": "code",
   "execution_count": 3,
   "outputs": [],
   "source": [
    "# read the tunefile and initialize the data instance\n",
    "tune_data_smurf = make_map_smurf(tunefile=tunefile, north_is_highband=north_is_highband,\n",
    "                                 design_data=design_data_example,\n",
    "                                 layout_position_path=mux_pos_num_to_mux_band_num_path,\n",
    "                                 layout_data=layout_data_example,\n",
    "                                 csv_filename=output_filename)\n"
   ],
   "metadata": {
    "collapsed": false,
    "pycharm": {
     "name": "#%% Smurf Tune File\n"
    }
   }
  },
  {
   "cell_type": "code",
   "execution_count": 4,
   "outputs": [],
   "source": [
    "# VNA scans\n",
    "tune_data_vna = make_map_vna(tune_data_vna_output_filename=tune_data_vna_output_filename,\n",
    "                             path_north_side_vna=path_north_side_vna,\n",
    "                             path_south_side_vna=path_south_side_vna,\n",
    "                             north_is_highband=north_is_highband, shift_mhz=vna_shift_mhz,\n",
    "                             design_data=design_data_example,\n",
    "                             layout_position_path=mux_pos_num_to_mux_band_num_path,\n",
    "                             layout_data=layout_data_example,\n",
    "                             csv_filename=output_filename_vna)\n"
   ],
   "metadata": {
    "collapsed": false,
    "pycharm": {
     "name": "#%%\n"
    }
   }
  },
  {
   "cell_type": "code",
   "execution_count": 5,
   "outputs": [],
   "source": [
    "# Optical power data from validation of dark bias lines.\n",
    "_cold_ramp_data_by_column, cold_ramp_data_by_row = read_csv(path=cold_ramp_file)\n",
    "coldload_ivs = [data_row for data_row in cold_ramp_data_by_row if data_row['note'].lower() == 'iv']\n"
   ],
   "metadata": {
    "collapsed": false,
    "pycharm": {
     "name": "#%%\n"
    }
   }
  },
  {
   "cell_type": "code",
   "execution_count": 6,
   "outputs": [],
   "source": [
    "#read in the sample psat data.\n",
    "_psat_by_band_chan, psat_by_temp = read_psat(coldload_ivs=coldload_ivs, make_plot=False)\n"
   ],
   "metadata": {
    "collapsed": false,
    "pycharm": {
     "name": "#%%\n"
    }
   }
  },
  {
   "cell_type": "code",
   "execution_count": 7,
   "outputs": [
    {
     "name": "stdout",
     "output_type": "stream",
     "text": [
      "Plot saved at: plots\\90_GHz_Psat_at_100mK_CL=9.0K,_range=0.0-3.0_pW.png\n",
      "Plot saved at: plots\\150_GHz_Psat_at_100mK_CL=9.0K,_range=0.0-6.0_pW.png\n"
     ]
    }
   ],
   "source": [
    "# Plot variables\n",
    "temp_k = 9.0\n",
    "show_plot = False\n",
    "save_plot = True\n",
    "\n",
    "# example plots\n",
    "for bandpass_target, psat_min, psat_max in [(90, 0.0, 3.0e-12),\n",
    "                                            (150, 0.0, 6.0e-12)]:\n",
    "    tune_data_smurf.plot_with_psat(psat_by_temp=psat_by_temp, bandpass_target=bandpass_target,\n",
    "                                   temp_k=temp_k, psat_min=psat_min, psat_max=psat_max,\n",
    "                                   show_plot=show_plot, save_plot=save_plot)"
   ],
   "metadata": {
    "collapsed": false,
    "pycharm": {
     "name": "#%%\n"
    }
   }
  }
 ],
 "metadata": {
  "kernelspec": {
   "display_name": "Python 3",
   "language": "python",
   "name": "python3"
  },
  "language_info": {
   "codemirror_mode": {
    "name": "ipython",
    "version": 2
   },
   "file_extension": ".py",
   "mimetype": "text/x-python",
   "name": "python",
   "nbconvert_exporter": "python",
   "pygments_lexer": "ipython2",
   "version": "2.7.6"
  }
 },
 "nbformat": 4,
 "nbformat_minor": 0
}