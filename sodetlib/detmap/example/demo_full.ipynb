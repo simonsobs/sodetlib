{
 "cells": [
  {
   "cell_type": "code",
   "execution_count": 10,
   "metadata": {
    "collapsed": true
   },
   "outputs": [],
   "source": [
    "import numpy as np\n",
    "# import the core map making code\n",
    "from sodetlib.detmap.makemap import make_map_smurf, make_map_vna, psat_map\n",
    "# custom packages used in this example\n",
    "from sodetlib.detmap.channel_assignment import OperateTuneData\n",
    "from sodetlib.detmap.layout_data import get_layout_data\n",
    "# get a sample configuration to use with this example\n",
    "from sodetlib.detmap.detmap_config import get_config\n",
    "\n",
    "\n",
    "config = get_config()"
   ]
  },
  {
   "cell_type": "code",
   "execution_count": 11,
   "outputs": [],
   "source": [
    "# Get Metadata\n",
    "# get the design file for the resonators\n",
    "design_data_example = OperateTuneData(design_file_path=config['design_file_path'])\n",
    "# get the UFM layout metadata (mux_layout_position and bond_pad mapping)\n",
    "layout_data_example = get_layout_data(filename=config['waferfile_path'],\n",
    "                                      dark_bias_lines=config['dark_bias_lines'], plot=False)\n"
   ],
   "metadata": {
    "collapsed": false,
    "pycharm": {
     "name": "#%%\n"
    }
   }
  },
  {
   "cell_type": "code",
   "execution_count": 12,
   "outputs": [
    {
     "name": "stdout",
     "output_type": "stream",
     "text": [
      "Output CSV written at: C:\\Users\\chw3k5\\PycharmProjects\\sodetlib\\sodetlib\\detmap\\sample_data\\smurf_pixel_freq_mapping.csv\n"
     ]
    }
   ],
   "source": [
    "# read the tunefile and initialize the data instance\n",
    "tune_data_smurf = make_map_smurf(tunefile=config['tunefile'], north_is_highband=config['north_is_highband'],\n",
    "                                 design_file=config['design_file_path'], waferfile=config['waferfile_path'],\n",
    "                                 layout_position_path=config['mux_pos_num_to_mux_band_num_path'],\n",
    "                                 dark_bias_lines=config['dark_bias_lines'],\n",
    "                                 output_path_csv=config['output_filename_smurf'])\n"
   ],
   "metadata": {
    "collapsed": false,
    "pycharm": {
     "name": "#%% Smurf Tune File\n"
    }
   }
  },
  {
   "cell_type": "code",
   "execution_count": 13,
   "outputs": [
    {
     "name": "stdout",
     "output_type": "stream",
     "text": [
      "Output CSV written at: C:\\Users\\chw3k5\\PycharmProjects\\sodetlib\\sodetlib\\detmap\\sample_data\\test_pixel_info_vna.csv\n"
     ]
    }
   ],
   "source": [
    "# VNA scans\n",
    "tune_data_vna = make_map_vna(tune_data_vna_output_filename=config['tune_data_vna_output_filename'],\n",
    "                             north_is_highband=config['north_is_highband'],\n",
    "                             path_north_side_vna=config['path_north_side_vna'],\n",
    "                             path_south_side_vna=config['path_south_side_vna'],\n",
    "                             shift_mhz=config['vna_shift_mhz'],\n",
    "                             design_file=config['design_file_path'], waferfile=config['waferfile_path'],\n",
    "                             layout_position_path=config['mux_pos_num_to_mux_band_num_path'],\n",
    "                             dark_bias_lines=config['dark_bias_lines'],\n",
    "                             output_path_csv=config['output_filename_vna'])\n"
   ],
   "metadata": {
    "collapsed": false,
    "pycharm": {
     "name": "#%%\n"
    }
   }
  },
  {
   "cell_type": "code",
   "execution_count": 14,
   "outputs": [
    {
     "name": "stdout",
     "output_type": "stream",
     "text": [
      "Plot saved at: C:\\Users\\chw3k5\\PycharmProjects\\sodetlib\\sodetlib\\detmap\\sample_data\\plots\\90_GHz_Psat_at_100mK_CL=9.0K,_range=0.0-3.0_pW.png\n",
      "Plot saved at: C:\\Users\\chw3k5\\PycharmProjects\\sodetlib\\sodetlib\\detmap\\sample_data\\plots\\150_GHz_Psat_at_100mK_CL=9.0K,_range=0.0-6.0_pW.png\n"
     ]
    }
   ],
   "source": [
    "psat_map(tune_data=tune_data_smurf, cold_ramp_file=config['cold_ramp_file'],\n",
    "         temp_k=9.0, show_plot=False, save_plot=True)"
   ],
   "metadata": {
    "collapsed": false,
    "pycharm": {
     "name": "#%%\n"
    }
   }
  },
  {
   "cell_type": "code",
   "execution_count": 15,
   "outputs": [],
   "source": [
    "# if you like to work with rectangular data topologies, it is easy to cast the data into an iterable like a list\n",
    "data_list = list(tune_data_smurf)\n",
    "# and then into a numpy array\n",
    "data_array = np.array(data_list)"
   ],
   "metadata": {
    "collapsed": false,
    "pycharm": {
     "name": "#%%\n"
    }
   }
  }
 ],
 "metadata": {
  "kernelspec": {
   "display_name": "Python 3",
   "language": "python",
   "name": "python3"
  },
  "language_info": {
   "codemirror_mode": {
    "name": "ipython",
    "version": 2
   },
   "file_extension": ".py",
   "mimetype": "text/x-python",
   "name": "python",
   "nbconvert_exporter": "python",
   "pygments_lexer": "ipython2",
   "version": "2.7.6"
  }
 },
 "nbformat": 4,
 "nbformat_minor": 0
}